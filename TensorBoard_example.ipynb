{
 "cells": [
  {
   "cell_type": "markdown",
   "metadata": {},
   "source": [
    "# TensorBoard\n",
    "\n",
    "TensorFlow 實作了 TensorFlow 的視覺化工具，要在 TensorBoard 中檢視模型，必須手動在 TensorFlow 程式中的session區段加入 tf.summary.FileWriter() 來指定 TensorBoard 儲存日誌的檔案路徑，例如寫作一個簡單的張量相加運算，並將這個運算記錄在 graphs 資料夾中。"
   ]
  },
  {
   "cell_type": "code",
   "execution_count": 1,
   "metadata": {},
   "outputs": [
    {
     "name": "stdout",
     "output_type": "stream",
     "text": [
      "[12. 24. 36. 48.]\n"
     ]
    }
   ],
   "source": [
    "import numpy as np\n",
    "import tensorflow as tf\n",
    "import pandas as pd\n",
    "from matplotlib import pyplot as plt\n",
    "\n",
    "p1 = tf.placeholder(tf.float32, shape=(4,), name='input_p1')\n",
    "p2 = tf.placeholder(tf.float32, shape=(4,), name='input_p2')\n",
    "\n",
    "add_op = tf.add( p1, p2,name='output_add')\n",
    "\n",
    "with tf.Session() as sess:\n",
    "    tf.summary.FileWriter('./graphs', sess.graph)\n",
    "    adder=sess.run(add_op, feed_dict={p1: [7, 14, 21, 28], p2: [5, 10, 15, 20]})\n",
    "    print(adder)"
   ]
  },
  {
   "cell_type": "markdown",
   "metadata": {},
   "source": [
    "* 在jupyter的terminals中執行\n",
    "\n",
    "```\n",
    "cd <workingdir>\n",
    "tensorboard --logdir=./graphs --host=127.0.0.1\n",
    "```\n",
    "\n",
    "* 在anaconda的terminals中執行\n",
    "\n",
    "```\n",
    "activate <env>\n",
    "cd <workingdir>\n",
    "tensorboard --logdir=./graphs --host=127.0.0.1\n",
    "```"
   ]
  },
  {
   "cell_type": "code",
   "execution_count": null,
   "metadata": {},
   "outputs": [],
   "source": []
  }
 ],
 "metadata": {
  "kernelspec": {
   "display_name": "Python 3",
   "language": "python",
   "name": "python3"
  },
  "language_info": {
   "codemirror_mode": {
    "name": "ipython",
    "version": 3
   },
   "file_extension": ".py",
   "mimetype": "text/x-python",
   "name": "python",
   "nbconvert_exporter": "python",
   "pygments_lexer": "ipython3",
   "version": "3.7.1"
  }
 },
 "nbformat": 4,
 "nbformat_minor": 2
}
