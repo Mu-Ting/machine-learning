{
 "cells": [
  {
   "cell_type": "code",
   "execution_count": 16,
   "metadata": {},
   "outputs": [
    {
     "name": "stdout",
     "output_type": "stream",
     "text": [
      "input x:5\n",
      "input y:-4\n",
      "input z:5\n"
     ]
    },
    {
     "data": {
      "text/plain": [
       "'II'"
      ]
     },
     "execution_count": 16,
     "metadata": {},
     "output_type": "execute_result"
    }
   ],
   "source": [
    "a = int(input(\"input x:\"))\n",
    "b = int(input(\"input y:\"))\n",
    "c = int(input(\"input z:\"))\n",
    "A=1+a/abs(a)\n",
    "B=1+b/abs(b)\n",
    "C=1+c/abs(c)\n",
    "t=[A,B,C]\n",
    "r=(A*4+B*2+C)/2\n",
    "#I:+++\n",
    "#II:+-+\n",
    "#III:--+\n",
    "#IV:-++\n",
    "#V:++-\n",
    "#VI:+--\n",
    "#VII:---\n",
    "#VIII:-+-\n",
    "\n",
    "dict = {7: 'I', 5: 'II', 1:'III', 3:'IV', 6:'V', 4:'VI', 0:'VII', 2:'VIII'}\n",
    "dict[r]\n"
   ]
  },
  {
   "cell_type": "code",
   "execution_count": null,
   "metadata": {},
   "outputs": [],
   "source": []
  },
  {
   "cell_type": "code",
   "execution_count": null,
   "metadata": {},
   "outputs": [],
   "source": []
  }
 ],
 "metadata": {
  "kernelspec": {
   "display_name": "Python 3",
   "language": "python",
   "name": "python3"
  },
  "language_info": {
   "codemirror_mode": {
    "name": "ipython",
    "version": 3
   },
   "file_extension": ".py",
   "mimetype": "text/x-python",
   "name": "python",
   "nbconvert_exporter": "python",
   "pygments_lexer": "ipython3",
   "version": "3.7.2"
  }
 },
 "nbformat": 4,
 "nbformat_minor": 2
}
