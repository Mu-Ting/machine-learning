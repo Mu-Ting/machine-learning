{
 "cells": [
  {
   "cell_type": "code",
   "execution_count": 3,
   "metadata": {},
   "outputs": [],
   "source": [
    "%matplotlib inline"
   ]
  },
  {
   "cell_type": "code",
   "execution_count": null,
   "metadata": {},
   "outputs": [],
   "source": [
    "import numpy as np\n",
    "import matplotlib.pyplot as plt \n",
    "\n",
    "x = [[0,0,0,0,0,0,0,0,0,0],\n",
    "     [0,1,1,0,1,0,0,0,1,1],\n",
    "     [0,0,1,1,1,0,1,1,1,1],\n",
    "     [0,0,1,1,0,0,1,1,1,1],\n",
    "     [0,1,1,1,0,0,1,1,1,0],\n",
    "     [0,0,0,0,0,0,0,0,1,0],\n",
    "     [0,0,0,1,1,1,0,0,1,0],\n",
    "     [0,0,0,1,1,1,1,0,0,0],\n",
    "     [0,0,0,0,0,0,1,0,0,0],\n",
    "     [0,0,0,0,0,0,1,0,0,0]]\n",
    "\n",
    "#最外層一圈填0\n",
    "x = [[0,0,0,0,0,0,0,0,0,0,0,0],\n",
    "     [0,0,0,0,0,0,0,0,0,0,0,0],\n",
    "     [0,0,1,1,0,1,0,0,0,1,1,0],\n",
    "     [0,0,0,1,1,1,0,1,1,1,1,0],\n",
    "     [0,0,0,1,1,0,0,1,1,1,1,0],\n",
    "     [0,0,1,1,1,0,0,1,1,1,0,0],\n",
    "     [0,0,0,0,0,0,0,0,0,1,0,0],\n",
    "     [0,0,0,0,1,1,1,0,0,1,0,0],\n",
    "     [0,0,0,0,1,1,1,1,0,0,0,0],\n",
    "     [0,0,0,0,0,0,0,1,0,0,0,0],\n",
    "     [0,0,0,0,0,0,0,1,0,0,0,0],\n",
    "     [0,0,0,0,0,0,0,0,0,0,0,0]]\n",
    "\n",
    "x = np.array(x)\n",
    "\n",
    "#逐一檢查道第1個1\n",
    "i=2\n",
    "j=2\n",
    "y=[]\n",
    "for i in range(12):\n",
    "    for j in range(12):\n",
    "        if x[i,j]==1:\n",
    "          y.append([i,j])\n",
    "#check島嶼\n",
    "           if\n",
    "    \n",
    "    \n",
    "#Check x+1, x-1, y+1, y-1\n",
    "#Buffer(計算器)主要記著 待會要check的點\n",
    "#Buffer[1]=(3,2)\n",
    "#count=count-1\n",
    "#不是1的值就不用理它\n",
    "#2是已經checked過的地方(並丟到一個紀錄器 得知位址)\n",
    "#是1就要推進buffer 值改成3,buffer裡面的count=count+1\n",
    "#check buffer的最後一個,做到buffer is empty\n",
    "\n",
    "#第二個島: 因為前面的島已經被assign成2 (已經確認)\n",
    "#一樣 找到是1\n",
    "\n",
    "#Buffer裡面要一個一個被拿出來check,拿出來時count要減一\n",
    "#紫色=2,checked\n",
    "#綠色=3,pushed\n",
    "\n",
    "#演算法regine grows區域生長法,應用小畫家的油漆\n",
    "       \n"
   ]
  }
 ],
 "metadata": {
  "kernelspec": {
   "display_name": "Python 3",
   "language": "python",
   "name": "python3"
  },
  "language_info": {
   "codemirror_mode": {
    "name": "ipython",
    "version": 3
   },
   "file_extension": ".py",
   "mimetype": "text/x-python",
   "name": "python",
   "nbconvert_exporter": "python",
   "pygments_lexer": "ipython3",
   "version": "3.7.2"
  }
 },
 "nbformat": 4,
 "nbformat_minor": 2
}
